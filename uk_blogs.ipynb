{
  "cells": [
    {
      "cell_type": "markdown",
      "metadata": {
        "id": "1gxqk0YzIegI"
      },
      "source": [
        "# Web scraping with GitHub"
      ]
    },
    {
      "cell_type": "markdown",
      "metadata": {
        "id": "wOh6jE1bIkRK"
      },
      "source": [
        "## We start with a few useful imports"
      ]
    },
    {
      "cell_type": "code",
      "execution_count": 120,
      "metadata": {
        "id": "5st44ZKoI78b"
      },
      "outputs": [],
      "source": [
        "BASE_URL = \"https://www.blog.gov.uk/\""
      ]
    },
    {
      "cell_type": "code",
      "execution_count": 121,
      "metadata": {
        "id": "EYeVRZH_-vqA"
      },
      "outputs": [],
      "source": [
        "import json\n",
        "from collections import defaultdict\n",
        "from datetime import datetime, timedelta\n",
        "from pathlib import Path\n",
        "\n",
        "import requests\n",
        "from bs4 import BeautifulSoup"
      ]
    },
    {
      "cell_type": "markdown",
      "metadata": {
        "id": "NaegpZqFSbMM"
      },
      "source": [
        "## Let's create a folder to store results"
      ]
    },
    {
      "cell_type": "code",
      "execution_count": 123,
      "metadata": {
        "id": "zgw8UK01GDj6"
      },
      "outputs": [],
      "source": [
        "data_dir = Path('data')\n",
        "data_dir.mkdir(exist_ok=True)"
      ]
    },
    {
      "cell_type": "markdown",
      "metadata": {
        "id": "rrz_vmu-uSUN"
      },
      "source": [
        "## Set a cutoff date\n",
        "\n",
        "Useful to test, and in production to not crawl the websites again unnecessarily.\n",
        "\n",
        "While in development we can set a sensible result, say a month from now:"
      ]
    },
    {
      "cell_type": "code",
      "execution_count": 122,
      "metadata": {
        "colab": {
          "base_uri": "https://localhost:8080/"
        },
        "id": "8VOfG0pmuQ2P",
        "outputId": "c755099c-ff19-4cd3-eb34-d98447856e50"
      },
      "outputs": [
        {
          "data": {
            "text/plain": [
              "datetime.datetime(2024, 12, 2, 18, 41, 32, 61135)"
            ]
          },
          "execution_count": 122,
          "metadata": {},
          "output_type": "execute_result"
        }
      ],
      "source": [
        "CUTOFF_DATE = datetime.now() - timedelta(days=10)\n",
        "CUTOFF_DATE"
      ]
    },
    {
      "cell_type": "markdown",
      "metadata": {
        "id": "ot1D8ILjuros"
      },
      "source": [
        "## Examine the target URL:\n",
        "\n",
        "Check the base URL: https://www.blog.gov.uk/all-posts/ and if it paginates, check what happens with the second: https://www.blog.gov.uk/all-posts/page/2/, third https://www.blog.gov.uk/all-posts/page/3/, and last page https://www.blog.gov.uk/all-posts/page/174/ – also, what happens if we visit page number one using the full url https://www.blog.gov.uk/all-posts/page/1/?, and what if we visit one that is beyond our the numeration https://www.blog.gov.uk/all-posts/page/10000/?\n",
        "\n",
        "Examine the pages using the developer tools & using requests."
      ]
    },
    {
      "cell_type": "code",
      "execution_count": 124,
      "metadata": {
        "id": "bmTPNdO0xdeR"
      },
      "outputs": [],
      "source": [
        "page_response = requests.get('https://www.blog.gov.uk/all-posts/')\n",
        "page_soup = BeautifulSoup(page_response.text, \"html.parser\")"
      ]
    },
    {
      "cell_type": "code",
      "execution_count": 125,
      "metadata": {
        "colab": {
          "base_uri": "https://localhost:8080/"
        },
        "id": "dIaWu17hv7Bo",
        "outputId": "6f90e3d9-a8f9-4cae-eea9-e7228619745a"
      },
      "outputs": [
        {
          "name": "stdout",
          "output_type": "stream",
          "text": [
            "Making it quicker and easier to search on GOV.UK\n"
          ]
        }
      ],
      "source": [
        "entry_list = page_soup.find('ul', {'class':'blogs-list'})\n",
        "entry_list_elements = entry_list.find_all('li')\n",
        "first_element = entry_list_elements[0]\n",
        "print(first_element.find('h3').text)"
      ]
    },
    {
      "cell_type": "markdown",
      "metadata": {
        "id": "tv7iijgxxe6a"
      },
      "source": [
        "### Try different pages, using page 1"
      ]
    },
    {
      "cell_type": "code",
      "execution_count": 126,
      "metadata": {
        "id": "PUzyxAptxjUI"
      },
      "outputs": [],
      "source": [
        "page_response = requests.get('https://www.blog.gov.uk/all-posts/page/1')\n",
        "page_soup = BeautifulSoup(page_response.text, \"html.parser\")"
      ]
    },
    {
      "cell_type": "code",
      "execution_count": 127,
      "metadata": {
        "colab": {
          "base_uri": "https://localhost:8080/"
        },
        "id": "iMex9pmExId9",
        "outputId": "d1f63926-d76a-437f-de90-826cdab45ada"
      },
      "outputs": [
        {
          "name": "stdout",
          "output_type": "stream",
          "text": [
            "Making it quicker and easier to search on GOV.UK\n"
          ]
        }
      ],
      "source": [
        "entry_list = page_soup.find('ul', {'class':'blogs-list'})\n",
        "entry_list_elements = entry_list.find_all('li')\n",
        "first_element = entry_list_elements[0]\n",
        "print(first_element.find('h3').text)"
      ]
    },
    {
      "cell_type": "markdown",
      "metadata": {
        "id": "6lGP6Tnixnk9"
      },
      "source": [
        "### Try different pages, using page 2"
      ]
    },
    {
      "cell_type": "code",
      "execution_count": 128,
      "metadata": {
        "id": "8pHA_JVRxm7j"
      },
      "outputs": [],
      "source": [
        "page_response = requests.get('https://www.blog.gov.uk/all-posts/page/2')\n",
        "page_soup = BeautifulSoup(page_response.text, \"html.parser\")"
      ]
    },
    {
      "cell_type": "code",
      "execution_count": 129,
      "metadata": {
        "colab": {
          "base_uri": "https://localhost:8080/"
        },
        "id": "LedtRhXMxrfM",
        "outputId": "f6e27ae3-beec-4020-b1cb-5b6c32183262"
      },
      "outputs": [
        {
          "name": "stdout",
          "output_type": "stream",
          "text": [
            "Do schools close because of bad weather? Everything parents need to know\n"
          ]
        }
      ],
      "source": [
        "entry_list = page_soup.find('ul', {'class':'blogs-list'})\n",
        "entry_list_elements = entry_list.find_all('li')\n",
        "first_element = entry_list_elements[0]\n",
        "print(first_element.find('h3').text)"
      ]
    },
    {
      "cell_type": "markdown",
      "metadata": {
        "id": "6x55rbyux7YY"
      },
      "source": [
        "### How about when we reach the end of the pagination?"
      ]
    },
    {
      "cell_type": "code",
      "execution_count": 130,
      "metadata": {
        "id": "5arMZWApx7JD"
      },
      "outputs": [],
      "source": [
        "page_response = requests.get('https://www.blog.gov.uk/all-posts/page/10000')\n",
        "page_soup = BeautifulSoup(page_response.text, \"html.parser\")"
      ]
    },
    {
      "cell_type": "code",
      "execution_count": 131,
      "metadata": {
        "colab": {
          "base_uri": "https://localhost:8080/"
        },
        "id": "i13Q0JmpyK7D",
        "outputId": "22fe48bd-76ad-405e-b4dc-c8a37272dbd7"
      },
      "outputs": [
        {
          "data": {
            "text/plain": [
              "['noresults']"
            ]
          },
          "execution_count": 131,
          "metadata": {},
          "output_type": "execute_result"
        }
      ],
      "source": [
        "entry_list = page_soup.find('ul', {'class':'blogs-list'})\n",
        "entry_list_elements = entry_list.find_all('li')\n",
        "element = entry_list_elements[0]\n",
        "element['class']"
      ]
    },
    {
      "cell_type": "markdown",
      "metadata": {
        "id": "DO2uDjYavy3Y"
      },
      "source": [
        "## Start writing a `fetch_page` based on the experiments"
      ]
    },
    {
      "cell_type": "code",
      "execution_count": 132,
      "metadata": {
        "id": "HZ9mFDlkzM7X"
      },
      "outputs": [],
      "source": [
        "def parse_entry(entry):\n",
        "    title = entry.find('h3').text\n",
        "    anchors = entry.find_all('a')\n",
        "    link = anchors[0]['href']\n",
        "    time = entry.find('time')['datetime']\n",
        "    blog = anchors[1].text\n",
        "    blog_link = anchors[1]['href']\n",
        "    description = entry.find('p').text\n",
        "\n",
        "    entry_dict = {\n",
        "        'title': title,\n",
        "        'link': link,\n",
        "        'time': datetime.strptime(time[:19], '%Y-%m-%dT%H:%M:%S'),\n",
        "        'blog': blog,\n",
        "        'blog_link': blog_link,\n",
        "        'description': description\n",
        "    }\n",
        "\n",
        "    return entry_dict"
      ]
    },
    {
      "cell_type": "code",
      "execution_count": 133,
      "metadata": {
        "colab": {
          "base_uri": "https://localhost:8080/"
        },
        "id": "ERwx4aVo0f4_",
        "outputId": "3c39a6ef-6921-4d18-f357-d59b1cde284d"
      },
      "outputs": [
        {
          "data": {
            "text/plain": [
              "{'title': 'Do schools close because of bad weather? Everything parents need to know',\n",
              " 'link': 'https://educationhub.blog.gov.uk/2024/12/05/do-schools-close-because-of-bad-weather-everything-parents-need-to-know/',\n",
              " 'time': datetime.datetime(2024, 12, 5, 18, 33, 29),\n",
              " 'blog': 'The Education Hub',\n",
              " 'blog_link': 'https://educationhub.blog.gov.uk',\n",
              " 'description': \"Schools will make every effort to stay open in adverse weather conditions, however, the safety of pupils and teachers is a top priority. Here's everything you need to know.\"}"
            ]
          },
          "execution_count": 133,
          "metadata": {},
          "output_type": "execute_result"
        }
      ],
      "source": [
        "parse_entry(first_element)"
      ]
    },
    {
      "cell_type": "code",
      "execution_count": 134,
      "metadata": {
        "id": "FMmM4LgRumSC"
      },
      "outputs": [],
      "source": [
        "def fetch_entries_for_page(page_number, cutoff_date):\n",
        "    page_response = requests.get(f'https://www.blog.gov.uk/all-posts/page/{page_number}')\n",
        "    page_soup = BeautifulSoup(page_response.text, \"html.parser\")\n",
        "    entry_list = page_soup.find('ul', {'class':'blogs-list'})\n",
        "    entry_list_elements = entry_list.find_all('li')\n",
        "    no_results_li = entry_list.find('li', {'class':'noresults'})\n",
        "    entries = []\n",
        "    if no_results_li:\n",
        "        return entries\n",
        "    for entry in entry_list_elements:\n",
        "        parsed_entry = parse_entry(entry)\n",
        "        if parsed_entry['time'] < cutoff_date:\n",
        "            break\n",
        "        entries.append(parsed_entry)\n",
        "    return entries"
      ]
    },
    {
      "cell_type": "code",
      "execution_count": 135,
      "metadata": {
        "colab": {
          "base_uri": "https://localhost:8080/"
        },
        "id": "nVVwsrYfzG-o",
        "outputId": "7ef1c779-1048-4f88-fb71-febabbc1a2e5"
      },
      "outputs": [
        {
          "name": "stdout",
          "output_type": "stream",
          "text": [
            "21\n"
          ]
        },
        {
          "data": {
            "text/plain": [
              "[{'title': 'Do schools close because of bad weather? Everything parents need to know',\n",
              "  'link': 'https://educationhub.blog.gov.uk/2024/12/05/do-schools-close-because-of-bad-weather-everything-parents-need-to-know/',\n",
              "  'time': datetime.datetime(2024, 12, 5, 18, 33, 29),\n",
              "  'blog': 'The Education Hub',\n",
              "  'blog_link': 'https://educationhub.blog.gov.uk',\n",
              "  'description': \"Schools will make every effort to stay open in adverse weather conditions, however, the safety of pupils and teachers is a top priority. Here's everything you need to know.\"},\n",
              " {'title': 'Heavy vehicle testing and approvals: what we’re working on',\n",
              "  'link': 'https://movingon.blog.gov.uk/2024/12/05/heavy-vehicle-testing-and-approvals-what-were-working-on/',\n",
              "  'time': datetime.datetime(2024, 12, 5, 15, 47, 5),\n",
              "  'blog': 'Moving On',\n",
              "  'blog_link': 'https://movingon.blog.gov.uk',\n",
              "  'description': 'I wanted to update you on some of the work we’re doing behind the scenes at DVSA in the heavy vehicle testing and approvals world.\\xa0\\xa0'},\n",
              " {'title': 'Prevent and Channel factsheet - 2024\\xa0',\n",
              "  'link': 'https://homeofficemedia.blog.gov.uk/2024/12/05/prevent-and-channel-factsheet-2024/',\n",
              "  'time': datetime.datetime(2024, 12, 5, 15, 39, 57),\n",
              "  'blog': 'Home Office in the media',\n",
              "  'blog_link': 'https://homeofficemedia.blog.gov.uk',\n",
              "  'description': 'What is the Prevent programme?\\xa0 The core mission of Prevent is stopping people from becoming terrorists or supporting terrorism. The early intervention support provided by Prevent addresses the personal, ideological, and social factors which make people more susceptible to radicalisation.\\xa0 …'}]"
            ]
          },
          "execution_count": 135,
          "metadata": {},
          "output_type": "execute_result"
        }
      ],
      "source": [
        "entries = fetch_entries_for_page(2, CUTOFF_DATE)\n",
        "print(len(entries))\n",
        "entries[:3]"
      ]
    },
    {
      "cell_type": "markdown",
      "metadata": {
        "id": "BQcILipmwAim"
      },
      "source": [
        "## Then we can just web scrape the whole index!"
      ]
    },
    {
      "cell_type": "code",
      "execution_count": 136,
      "metadata": {
        "id": "li5QLxLXzIph"
      },
      "outputs": [],
      "source": [
        "all_current_entries = []\n",
        "\n",
        "for page in range(1, 1_000):\n",
        "    entries = fetch_entries_for_page(page, CUTOFF_DATE)\n",
        "    if not entries:\n",
        "        break\n",
        "    all_current_entries.extend(entries)"
      ]
    },
    {
      "cell_type": "code",
      "execution_count": 137,
      "metadata": {
        "colab": {
          "base_uri": "https://localhost:8080/"
        },
        "id": "NTjK8K3Wzloe",
        "outputId": "3a37f3c8-1e83-4cba-bf08-f396dfd2c0ed"
      },
      "outputs": [
        {
          "data": {
            "text/plain": [
              "61"
            ]
          },
          "execution_count": 137,
          "metadata": {},
          "output_type": "execute_result"
        }
      ],
      "source": [
        "len(all_current_entries)"
      ]
    },
    {
      "cell_type": "code",
      "execution_count": 139,
      "metadata": {
        "colab": {
          "base_uri": "https://localhost:8080/"
        },
        "id": "4C_szWDvwiNz",
        "outputId": "29810fd7-b148-4375-f439-13a3abce5ceb"
      },
      "outputs": [
        {
          "data": {
            "text/plain": [
              "({'title': 'Making it quicker and easier to search on GOV.UK',\n",
              "  'link': 'https://insidegovuk.blog.gov.uk/2024/12/12/making-it-quicker-and-easier-to-search-on-gov-uk/',\n",
              "  'time': datetime.datetime(2024, 12, 12, 15, 54, 26),\n",
              "  'blog': 'Inside GOV.UK',\n",
              "  'blog_link': 'https://insidegovuk.blog.gov.uk',\n",
              "  'description': 'We’ve made some changes to the interface of site search on GOV.UK to create a simpler, more user-friendly experience.'},\n",
              " {'title': 'Working together for Nature Recovery in Greater Manchester\\xa0\\xa0',\n",
              "  'link': 'https://naturalengland.blog.gov.uk/2024/12/03/working-together-for-nature-recovery-in-greater-manchester/',\n",
              "  'time': datetime.datetime(2024, 12, 3, 8, 47, 48),\n",
              "  'blog': 'Natural England',\n",
              "  'blog_link': 'https://naturalengland.blog.gov.uk',\n",
              "  'description': 'The launch of Biodiversity Net Gain (BNG) has been a major achievement this year – this world-leading initiative means that for the first time, development must leave nature measurably improved. I was lucky enough to visit Greater Manchester to speak …'})"
            ]
          },
          "execution_count": 139,
          "metadata": {},
          "output_type": "execute_result"
        }
      ],
      "source": [
        "sorted_entries = sorted(all_current_entries, key=lambda x: x['time'], reverse=True)\n",
        "sorted_entries[0], sorted_entries[-1]"
      ]
    },
    {
      "cell_type": "markdown",
      "metadata": {
        "id": "ndHvebEpwz3r"
      },
      "source": [
        "## Now we can focus on the article page!\n",
        "\n",
        "Let's take a page, for example"
      ]
    },
    {
      "cell_type": "code",
      "execution_count": 140,
      "metadata": {
        "colab": {
          "base_uri": "https://localhost:8080/",
          "height": 53
        },
        "id": "0ztzXtGVwmMe",
        "outputId": "296fd69b-6717-40a4-ddbb-ae6e82aacca5"
      },
      "outputs": [
        {
          "data": {
            "application/vnd.google.colaboratory.intrinsic+json": {
              "type": "string"
            },
            "text/plain": [
              "'https://insidegovuk.blog.gov.uk/2024/12/12/making-it-quicker-and-easier-to-search-on-gov-uk/'"
            ]
          },
          "execution_count": 140,
          "metadata": {},
          "output_type": "execute_result"
        }
      ],
      "source": [
        "article_url = sorted_entries[0]['link']\n",
        "article_url"
      ]
    },
    {
      "cell_type": "code",
      "execution_count": 141,
      "metadata": {
        "id": "48AWXyrjxlHR"
      },
      "outputs": [],
      "source": [
        "article_response = requests.get(article_url)\n",
        "article_soup = BeautifulSoup(article_response.text, \"html.parser\")"
      ]
    },
    {
      "cell_type": "code",
      "execution_count": 142,
      "metadata": {
        "colab": {
          "base_uri": "https://localhost:8080/"
        },
        "id": "KiE7qDQWz5n1",
        "outputId": "52806fd6-5841-4419-e878-6869f588940d"
      },
      "outputs": [
        {
          "name": "stdout",
          "output_type": "stream",
          "text": [
            "Making it quicker and easier to search on GOV.UK\n"
          ]
        }
      ],
      "source": [
        "article_tag = article_soup.find('article')\n",
        "article_title = article_tag.find('h1').text\n",
        "print(article_title)"
      ]
    },
    {
      "cell_type": "code",
      "execution_count": 143,
      "metadata": {
        "id": "M_7YFMbByCQ2"
      },
      "outputs": [],
      "source": [
        "def parse_article_metadata(article_soup):\n",
        "    article_tag = article_soup.find('article')\n",
        "    article_title = article_tag.find('h1').text\n",
        "    authors = article_tag.find_all('a', {'class': 'author'})\n",
        "    article_authors = [author.text for author in authors]\n",
        "    article_posted_on = article_tag.find('time')['datetime']\n",
        "    categories = article_tag.find_all('a', {'rel': 'category'})\n",
        "    article_categories = [category.text for category in categories]\n",
        "    article_categories\n",
        "\n",
        "    article_metadata_data = {\n",
        "        'title': article_title,\n",
        "        'authors': article_authors,\n",
        "        'posted_on': datetime.strptime(article_posted_on[:19], '%Y-%m-%dT%H:%M:%S'),\n",
        "        'categories': article_categories\n",
        "    }\n",
        "\n",
        "    return article_metadata_data"
      ]
    },
    {
      "cell_type": "code",
      "execution_count": 144,
      "metadata": {
        "colab": {
          "base_uri": "https://localhost:8080/"
        },
        "id": "B74gOBz20B3j",
        "outputId": "6ecdbccb-0f2f-4b6b-dd52-9b8bbb936995"
      },
      "outputs": [
        {
          "data": {
            "text/plain": [
              "{'title': 'Making it quicker and easier to search on GOV.UK',\n",
              " 'authors': ['Catriona Fraser, Product Manager, Search, GOV.UK',\n",
              "  'Monica Crusellas, Senior Interaction Designer, GOV.UK'],\n",
              " 'posted_on': datetime.datetime(2024, 12, 12, 15, 54, 26),\n",
              " 'categories': ['Product changes', \"What we're working on\"]}"
            ]
          },
          "execution_count": 144,
          "metadata": {},
          "output_type": "execute_result"
        }
      ],
      "source": [
        "parse_article_metadata(article_soup)"
      ]
    },
    {
      "cell_type": "markdown",
      "metadata": {
        "id": "GMLufu6P0Qej"
      },
      "source": [
        "## On to focus on the content?"
      ]
    },
    {
      "cell_type": "code",
      "execution_count": 145,
      "metadata": {
        "id": "km4H0ztuyEZR"
      },
      "outputs": [],
      "source": [
        "consumable_tags = { \"p\", \"h2\", \"h3\", \"h4\" }\n",
        "\n",
        "def parse_article_content(article_soup):\n",
        "    entry_container = article_soup.find('div', {'class': 'entry-content'})\n",
        "    content = []\n",
        "    for child in entry_container.children:\n",
        "        if child.name in consumable_tags:\n",
        "            if child.text:\n",
        "                content.append({'content': child.text, 'tag': child.name})\n",
        "        else:\n",
        "            if child.name:\n",
        "              # print(f\"Unknown tag: {child.name}\")\n",
        "              pass\n",
        "\n",
        "    return content"
      ]
    },
    {
      "cell_type": "code",
      "execution_count": 146,
      "metadata": {
        "colab": {
          "base_uri": "https://localhost:8080/"
        },
        "id": "5OVxKmQ-zDNa",
        "outputId": "60c550b3-e7af-46d1-daba-85a48be6a83e"
      },
      "outputs": [
        {
          "data": {
            "text/plain": [
              "[{'content': 'GOV.UK site search is one of the main ways people find information on GOV.UK. It’s used more than 4 million times a month. In our strategy for growth, we said we wanted to improve site search to help make it quicker and easier for users to access government information and services.',\n",
              "  'tag': 'p'},\n",
              " {'content': 'In October we blogged about how we chose, integrated and launched a new search engine to power site search. Building on that foundation, we’ve now made several changes to GOV.UK’s search interface (where users enter, filter and read search results) to create a simpler, more user-friendly experience.',\n",
              "  'tag': 'p'},\n",
              " {'content': 'These updates include a new autocomplete feature, a streamlined design for filters and sorting, and improved readability of search results. This blog post explains these changes and what they mean for GOV.UK users.',\n",
              "  'tag': 'p'}]"
            ]
          },
          "execution_count": 146,
          "metadata": {},
          "output_type": "execute_result"
        }
      ],
      "source": [
        "content = parse_article_content(article_soup)\n",
        "content[:3]"
      ]
    },
    {
      "cell_type": "code",
      "execution_count": 147,
      "metadata": {
        "id": "e4aAXU0n03-6"
      },
      "outputs": [],
      "source": [
        "def fetch_article(article_entry):\n",
        "    article_response = requests.get(article_entry['link'])\n",
        "    article_soup = BeautifulSoup(article_response.text, \"html.parser\")\n",
        "    article_metadata = parse_article_metadata(article_soup)\n",
        "    article_content = parse_article_content(article_soup)\n",
        "\n",
        "    article_metadata['content'] = article_content\n",
        "    article_metadata['link'] = article_entry['link']\n",
        "    article_metadata['blog'] = article_entry['blog']\n",
        "    article_metadata['blog_link'] = article_entry['blog_link']\n",
        "    article_metadata['description'] = article_entry['description']\n",
        "\n",
        "    return article_metadata"
      ]
    },
    {
      "cell_type": "code",
      "execution_count": 148,
      "metadata": {
        "colab": {
          "base_uri": "https://localhost:8080/"
        },
        "id": "lAeme_CD2kQm",
        "outputId": "cd7b4997-d4d7-4d57-f155-187132646699"
      },
      "outputs": [
        {
          "data": {
            "text/plain": [
              "{'title': \"Following in my family's forestry footsteps\",\n",
              " 'authors': ['Ian Everard'],\n",
              " 'posted_on': datetime.datetime(2024, 12, 3, 9, 0),\n",
              " 'categories': ['Careers'],\n",
              " 'content': [{'content': 'As a second-generation forester, my family tree is made up of passionate foresters. My parents both worked in forestry, and my son David is following in our family’s footsteps working for Forestry Scotland. As a family we have a deep connection to the outdoors. We want to make a difference to people, nature and the environment, and leave a legacy for the next generation.',\n",
              "   'tag': 'p'},\n",
              "  {'content': 'Growing up in forestry', 'tag': 'h2'},\n",
              "  {'content': 'As I cast my mind back to the things that shaped and inspired me as a young lad growing up in Hampshire, Northumberland and Penarth, I’m reminded of fond family holidays spent in Cornwall, roaming the picturesque countryside and forests that form our magnificent English landscape. I recall from an early age that I only ever wanted to be outdoors. I was always eager to explore my natural surroundings and to learn from my father who was then a Forest Researcher, and my mother who worked at a research station in the Forest of Dean.',\n",
              "   'tag': 'p'},\n",
              "  {'content': 'When it came to deciding what I would do after I left school, I knew it had to be something that would allow me to pursue a career outdoors. At the time, I was able to gain some contracting experience that involved spraying and clearing woodlands which I really enjoyed. However, I knew I wanted to experience more than just the hands-on work. I wanted to learn what forestry was all about.',\n",
              "   'tag': 'p'},\n",
              "  {'content': 'A stepping stone into forestry', 'tag': 'h2'},\n",
              "  {'content': 'The great thing about forestry is that there are lots of different pathways you can explore. I decided to explore a route that would involve learning the theory while gaining practical experience.',\n",
              "   'tag': 'p'},\n",
              "  {'content': 'Looking back, I had a deep connection with my local National Park in Rothbury, Northumberland. I envisaged myself as a National Park Ranger, working with the public and on national footpaths – things I knew I would enjoy and be good at. With that ambition firmly in my mind, I knew it would be best to get a job in a related industry such as forestry, to gain some valuable experience.',\n",
              "   'tag': 'p'},\n",
              "  {'content': 'I decided to explore different college courses and decided on a diploma in Forestry, which would involve two years’ practical outdoors experience. As part of the Ordinary National Diploma (OND) course at Newton Rigg College in Cumbria, I spent my middle year on placement at North West Water in Macclesfield. I completed a lot of practical work during the course and achieved an OND (which later changed to a Forestry BTEC National Diploma) which would later open the door to a new chapter in forestry.',\n",
              "   'tag': 'p'},\n",
              "  {'content': 'A variety of rewarding roles', 'tag': 'h2'},\n",
              "  {'content': 'In the early daysDuring my college days I was able to gain some experience as a Survey Assistant for the Forestry Commission which I really enjoyed, as it involved traipsing through woodlands to collect data. It was around this time I realised forestry was for me. When I finished college, I found 12 months of land-based work at a private estate to build on my experience and when a role at the Forestry Commission opened up, I jumped at the chance to apply. I was successful, which meant I was posted to the Llandovery district in Carmarthenshire, where I worked in timber production harvesting trees and managing heavy machinery.',\n",
              "   'tag': 'p'},\n",
              "  {'content': 'Embarking on a new adventureI decided after five years that I fancied a change of scene. I embarked on a new adventure which would take me to the west coast of Scotland. I remember arriving by ferry and taking in the stunning outlook across the Cowal Peninsula, there was nothing but blue skies and sunshine.',\n",
              "   'tag': 'p'},\n",
              "  {'content': 'As you can imagine, the blue skies didn’t last long in Scotland, and so my trusted waterproofs were put to the test for the next eight years working in Cowal forest district. The wet weather didn’t dampen my enthusiasm for the fun-filled recreation role I did for four years, where I got to create new outdoor activities and events including mountain biking and 4x4 off roading, as well as organising the odd Easter bunny trail for families to enjoy.',\n",
              "   'tag': 'p'},\n",
              "  {'content': 'The other four years were spent looking after forests in my patch – otherwise known as managing a ‘beat’. This involved planting, restocking and managing trees along the steep slopes of the west coast of Scotland. It was an enlightening and very enjoyable experience for me. I had never done this before and it felt great to gain new skills and to work alongside other like-minded, passionate teammates.',\n",
              "   'tag': 'p'},\n",
              "  {'content': 'I always think that it’s the people at the Forestry Commission that make it such a special place to work, there is always someone to lend a hand and such strong camaraderie – you feel you belong to a supportive forest family.',\n",
              "   'tag': 'p'},\n",
              "  {'content': 'In recent yearsAfter settling down in Cowal to start a family, we relocated to Newton Stewart in Galloway where I was beat forester for Galloway West for five happy years.',\n",
              "   'tag': 'p'},\n",
              "  {'content': 'My wife and I then decided to move back to Northumberland where I got a promotion within Forestry England. I worked for five years as a District Forester in forest management – managing the North East forest district restocking and maintenance programme.',\n",
              "   'tag': 'p'},\n",
              "  {'content': 'An opportunity then arose to transfer to the North East Area team at the Forestry Commission in Rothbury, where I worked as a Woodland Officer and then as a Project Manager. Now, in my current role as a part-time Field Manager, I have a more internal focus where I help support the other Field Mangers and train staff in technical forestry skills. I also manage the 1st year Development Woodland Officers on the Level 6 Professional Forester Apprenticeship programme.',\n",
              "   'tag': 'p'},\n",
              "  {'content': 'Looking back, I realise how much I have enjoyed the variety of roles I have performed throughout my forestry career; I’ve always been curious and embraced different opportunities to learn new skills along the way.',\n",
              "   'tag': 'p'},\n",
              "  {'content': 'Advice to those considering a role in forestry', 'tag': 'h2'},\n",
              "  {'content': 'Be open to new opportunities I was open to moving around to different locations and seeking out new opportunities and experiences. I grasped a couple of opportunities, and they had a positive impact on my career – as sometimes you need to go sideways before you can go forwards. The great thing about forestry is that trees are all around us, which has meant I’ve seen colleagues experience a variety of roles within the same locality.',\n",
              "   'tag': 'p'},\n",
              "  {'content': 'Find the route that works for youI left school with one A Level with a view to doing a more practical, hands-on role in forestry and it didn’t hold me back. If you are more academic, then you may choose to explore qualifications through to degree level.',\n",
              "   'tag': 'p'},\n",
              "  {'content': 'Be proactiveTry to find ways to gain experience, these skills can be gained through a contractor where you can develop chainsaw or machine operating skills. There are also training opportunities and apprenticeships available for many practical roles.',\n",
              "   'tag': 'p'},\n",
              "  {'content': 'We need youThere is demand for people across the sector, from hands-on roles to scientific, managerial and administrative roles. We need a new generation of skilled and passionate people to continue the impactful work we do in forestry, that makes a real difference for nature, people and the planet.',\n",
              "   'tag': 'p'},\n",
              "  {'content': 'Final reflections', 'tag': 'h2'},\n",
              "  {'content': 'My career in forestry has been incredibly rewarding and I’ve made many life-long friends along the way. I feel great knowing I am making a difference, whether it’s helping to future-proof our woodlands and forests against climate change or planting trees and creating amazing outdoor spaces for the next generation to enjoy. It’s something I am incredibly passionate and proud of.',\n",
              "   'tag': 'p'}],\n",
              " 'link': 'https://forestrycommission.blog.gov.uk/2024/12/03/following-in-my-familys-forestry-footsteps/',\n",
              " 'blog': 'Forestry Commission',\n",
              " 'blog_link': 'https://forestrycommission.blog.gov.uk',\n",
              " 'description': 'Ian Everard is a Field Manager in the Yorkshire and North East team and has been in forestry for 43 years. Ian talks about his journey into forestry, what inspired him and why it’s been such a rewarding experience.'}"
            ]
          },
          "execution_count": 148,
          "metadata": {},
          "output_type": "execute_result"
        }
      ],
      "source": [
        "fetched_article = fetch_article(sorted_entries[-2])\n",
        "fetched_article"
      ]
    },
    {
      "cell_type": "markdown",
      "metadata": {
        "id": "DZMmaNsA5kC8"
      },
      "source": [
        "## ⚠️ Let's web scrape all the articles!"
      ]
    },
    {
      "cell_type": "code",
      "execution_count": 149,
      "metadata": {
        "colab": {
          "base_uri": "https://localhost:8080/"
        },
        "id": "koiOVpgU2nop",
        "outputId": "751e88ca-36eb-48bb-bfd2-3b4828343e9c"
      },
      "outputs": [
        {
          "data": {
            "text/plain": [
              "61"
            ]
          },
          "execution_count": 149,
          "metadata": {},
          "output_type": "execute_result"
        }
      ],
      "source": [
        "len(all_current_entries)"
      ]
    },
    {
      "cell_type": "code",
      "execution_count": 150,
      "metadata": {
        "id": "vJ5Gck2I5jdZ"
      },
      "outputs": [],
      "source": [
        "full_articles = []\n",
        "\n",
        "for entry in all_current_entries:\n",
        "    full_articles.append(fetch_article(entry))"
      ]
    },
    {
      "cell_type": "code",
      "execution_count": 151,
      "metadata": {
        "colab": {
          "base_uri": "https://localhost:8080/"
        },
        "id": "L3uUyobnKNYb",
        "outputId": "5f5b46f5-62d7-4bfd-9751-2504fa80ca9e"
      },
      "outputs": [
        {
          "data": {
            "text/plain": [
              "{'title': 'Making it quicker and easier to search on GOV.UK',\n",
              " 'authors': ['Catriona Fraser, Product Manager, Search, GOV.UK',\n",
              "  'Monica Crusellas, Senior Interaction Designer, GOV.UK'],\n",
              " 'posted_on': datetime.datetime(2024, 12, 12, 15, 54, 26),\n",
              " 'categories': ['Product changes', \"What we're working on\"],\n",
              " 'content': [{'content': 'GOV.UK site search is one of the main ways people find information on GOV.UK. It’s used more than 4 million times a month. In our strategy for growth, we said we wanted to improve site search to help make it quicker and easier for users to access government information and services.',\n",
              "   'tag': 'p'},\n",
              "  {'content': 'In October we blogged about how we chose, integrated and launched a new search engine to power site search. Building on that foundation, we’ve now made several changes to GOV.UK’s search interface (where users enter, filter and read search results) to create a simpler, more user-friendly experience.',\n",
              "   'tag': 'p'},\n",
              "  {'content': 'These updates include a new autocomplete feature, a streamlined design for filters and sorting, and improved readability of search results. This blog post explains these changes and what they mean for GOV.UK users.',\n",
              "   'tag': 'p'},\n",
              "  {'content': 'Autocomplete', 'tag': 'h2'},\n",
              "  {'content': 'The biggest change we’ve made is adding autocomplete to the search bar across the site. Autocomplete predicts search terms as users type, helping them find the information they need faster and with fewer keystrokes.',\n",
              "   'tag': 'p'},\n",
              "  {'content': 'Our goal with autocomplete is to make searching on GOV.UK quicker and more intuitive, particularly for users who may not know the exact terms to look for.',\n",
              "   'tag': 'p'},\n",
              "  {'content': 'The data model behind our autocomplete feature is powered by Google Vertex AI Search, the search product we launched on GOV.UK in February. This model is trained on anonymised user search queries (from people who have consented to analytics tracking), which Google processes and refines to provide relevant autocomplete suggestions.',\n",
              "   'tag': 'p'},\n",
              "  {'content': 'On the user interface side, we adapted the accessible autocomplete Javascript component - managed by the GOV.UK Design System team - to handle the displaying of suggestions and user interactions.',\n",
              "   'tag': 'p'},\n",
              "  {'content': 'We made a number of design choices to ensure autocomplete supports users effectively. These include:',\n",
              "   'tag': 'p'},\n",
              "  {'content': 'Filters and sorting', 'tag': 'h2'},\n",
              "  {'content': 'In the past, search filters appeared on the left side of the page, while sorting options were above the search results. After reviewing analytics data, we found that only a small minority of people selected filters, so we decided to simplify the design to improve usability.',\n",
              "   'tag': 'p'},\n",
              "  {'content': 'Now, both filters and sorting are in a single panel above the search results. This central location keeps the layout clean and reduces visual noise, allowing users to focus on search results, while still having easy access to filters and sorting if they choose to use them.',\n",
              "   'tag': 'p'},\n",
              "  {'content': 'We’ve also made changes to improve the usability of the filters themselves. These include:',\n",
              "   'tag': 'p'},\n",
              "  {'content': 'To make the search results clearer and more consistent with the rest of GOV.UK, we introduced several design changes. We:',\n",
              "   'tag': 'p'},\n",
              "  {'content': 'User research and testing', 'tag': 'h2'},\n",
              "  {'content': 'Before launching these updates, we did usability testing to validate that the new features were intuitive and easy to use. We also did a round of user research with the Digital Accessibility Centre (DAC) to ensure that the changes work effectively for users with accessibility needs, and those who use assistive technologies.',\n",
              "   'tag': 'p'},\n",
              "  {'content': 'For autocomplete, we ran an A/B test on the live site, where we showed an equal proportion of users search with autocomplete and search without autocomplete, so that we could see how search behaviour changed when users had autocomplete suggestions.',\n",
              "   'tag': 'p'},\n",
              "  {'content': 'We found that:', 'tag': 'p'},\n",
              "  {'content': 'These figures provided a clear indication that autocomplete was valuable for users.',\n",
              "   'tag': 'p'},\n",
              "  {'content': 'Next steps', 'tag': 'h2'},\n",
              "  {'content': 'Now the changes to the user interface of search are live, we will continue to closely monitor performance data and user feedback to make sure these improvements are working well for users.',\n",
              "   'tag': 'p'},\n",
              "  {'content': 'If you have feedback to share about the changes we’ve made to search on GOV.UK please leave a comment or email govuk-site-search@digital.cabinet-office.gov.uk.',\n",
              "   'tag': 'p'}],\n",
              " 'link': 'https://insidegovuk.blog.gov.uk/2024/12/12/making-it-quicker-and-easier-to-search-on-gov-uk/',\n",
              " 'blog': 'Inside GOV.UK',\n",
              " 'blog_link': 'https://insidegovuk.blog.gov.uk',\n",
              " 'description': 'We’ve made some changes to the interface of site search on GOV.UK to create a simpler, more user-friendly experience.'}"
            ]
          },
          "execution_count": 151,
          "metadata": {},
          "output_type": "execute_result"
        }
      ],
      "source": [
        "full_articles[0]"
      ]
    },
    {
      "cell_type": "markdown",
      "metadata": {
        "id": "UmAqNwfFOI8x"
      },
      "source": [
        "## How are we going to save this data?\n",
        "\n",
        "Since we are going to store data in git, we want to aboid both big files and lots of files.\n",
        "\n",
        "Let's write a file to bucket articles on a weekly basis."
      ]
    },
    {
      "cell_type": "code",
      "execution_count": 168,
      "metadata": {
        "id": "FMgvM5lc5uWu"
      },
      "outputs": [],
      "source": [
        "from collections import defaultdict\n",
        "from datetime import datetime, timedelta\n",
        "\n",
        "def bucket_articles_weekly(articles):\n",
        "    weekly_buckets = defaultdict(list)\n",
        "    sorted_articles = sorted(articles, key=lambda x: x['posted_on'], reverse=True)\n",
        "\n",
        "    for article in sorted_articles:\n",
        "        article_date = article['posted_on'].date()\n",
        "        start_of_week = article_date - timedelta(days=article_date.weekday())\n",
        "        weekly_buckets[start_of_week].append(article)\n",
        "\n",
        "    sorted_weekly_buckets = dict(sorted(weekly_buckets.items(), reverse=True))\n",
        "\n",
        "    return sorted_weekly_buckets\n"
      ]
    },
    {
      "cell_type": "code",
      "execution_count": 169,
      "metadata": {
        "colab": {
          "base_uri": "https://localhost:8080/"
        },
        "id": "5sd6cMA4P1XN",
        "outputId": "01d6cbc5-cb8a-4c5a-fe7b-3a0289469eda"
      },
      "outputs": [
        {
          "name": "stdout",
          "output_type": "stream",
          "text": [
            "Week starting 2024-12-09:\n",
            "  - Making it quicker and easier to search on GOV.UK (2024-12-12 15:54:26)\n",
            "  - Portsmouth’s New Emergency Department Opens with support from Defence Medical Services personnel (2024-12-12 13:24:55)\n",
            "  - Magic Maps: change to service platform   (2024-12-12 12:18:11)\n",
            "  - Ambitious and future-thinking: advising on digital government (2024-12-12 10:34:14)\n",
            "  - Farewell to Ipsum  (2024-12-12 10:32:52)\n",
            "  - Strengthening actuarial practice through collaboration (2024-12-12 09:26:35)\n",
            "  - Celebrating one year of Projects for Nature (2024-12-12 09:24:08)\n",
            "  - Our consultation events are over but there’s still time to share your thoughts (2024-12-12 09:00:55)\n",
            "  - Transforming Defra together: the journey from paper to online forms (2024-12-12 08:00:00)\n",
            "  - Guidance now available for improved Countryside Stewardship Higher Tier offer  (2024-12-11 17:14:46)\n",
            "  - Getting ready to apply for Countryside Stewardship Higher Tier (2024-12-11 16:40:36)\n",
            "  - Puberty blockers: what you need to know (2024-12-11 15:31:33)\n",
            "  - Sharing our AI expertise (2024-12-11 15:17:15)\n",
            "  - Our review of the area SEND inspection framework (2024-12-11 15:12:13)\n",
            "  - Why we are experimenting with ethnography in the metaverse   (2024-12-11 13:35:55)\n",
            "  - Improving and evolving: Defra's content community projects (2024-12-11 13:33:15)\n",
            "  - Government Digital and Data in review: Top reads of 2024 (2024-12-11 11:13:07)\n",
            "  - Hydrology: the study of water and why it matters (2024-12-11 10:19:42)\n",
            "  - Details released of new Countryside Stewardship Higher Tier – Natural England to work with invited farmers to develop applications (2024-12-11 10:15:18)\n",
            "  - Beyond qualifications: how experience, relationships and learning shaped my Civil Service career (2024-12-11 09:41:59)\n",
            "  - Teacher pay: what does the pay evidence mean for schools? (2024-12-10 17:32:38)\n",
            "  - SMA ISE partnership board updated on very useful modelling study workshop (2024-12-10 17:16:33)\n",
            "  - How human organs grown in labs are helping to develop the vaccines of the future (2024-12-10 17:03:39)\n",
            "  - Data Bill: committee debate in House of Lords  (2024-12-10 16:45:43)\n",
            "  - Coverage following reforms to electrical waste regulations (2024-12-10 16:14:25)\n",
            "  - Coverage of reforms to bin collections  (2024-12-10 15:51:15)\n",
            "  - Wargaming Wisdom (2024-12-10 12:10:44)\n",
            "  - Funding Service: How digital innovation will help us to deliver grants faster, better and cheaper   (2024-12-10 09:44:38)\n",
            "  - Into the woods: enhancing local history with woodland and green space (2024-12-10 09:00:00)\n",
            "  - New Nature Connection website brings together   policy, practice and research (2024-12-10 08:05:00)\n",
            "  - Coverage following British unprocessed pork exports to China resuming (2024-12-09 12:27:19)\n",
            "\n",
            "Week starting 2024-12-02:\n",
            "  - Here are the facts about our junk food advertising ban (2024-12-06 18:52:05)\n",
            "  - Primary school admissions 2025: How to apply and when is the deadline? (2024-12-06 15:12:07)\n",
            "  - Keeping close at Christmas – a musical ‘advent’ure (2024-12-06 14:52:14)\n",
            "  - Meet the Modern Civil Service: Bob Kamall, Engagement Manager, Central Digital and Data Office (2024-12-06 13:10:55)\n",
            "  - Digital Planning: Developing planning applications specifications in the open  (2024-12-06 12:56:21)\n",
            "  - 1949 National Parks and Access to the Countryside Act - a reflection from Navroza Ladha (2024-12-06 11:55:35)\n",
            "  - Unregistered children’s homes: too many vulnerable children are placed at risk (2024-12-06 09:57:25)\n",
            "  - Fisheries Data Mapping: An Update from the MMO Marine Planning Team (2024-12-06 08:54:43)\n",
            "  - 2024 Festive accessibility quiz (2024-12-06 08:44:10)\n",
            "  - Do schools close because of bad weather? Everything parents need to know (2024-12-05 18:33:29)\n",
            "  - Heavy vehicle testing and approvals: what we’re working on (2024-12-05 15:47:05)\n",
            "  - Prevent and Channel factsheet - 2024  (2024-12-05 15:39:57)\n",
            "  - Accelerating Defence software in 2024: The latest highlights from D2S (2024-12-05 14:01:37)\n",
            "  - Bovaer cow feed additive explained (2024-12-05 12:23:23)\n",
            "  - World Soil Day: Unearthing the secrets of soil (2024-12-05 08:39:37)\n",
            "  - Health screening module as popular as ever in its 14th year (2024-12-05 08:32:25)\n",
            "  - Media factsheet: eVisas (2024-12-04 15:19:03)\n",
            "  - Working together to create natural, sustainable solutions to climate change and nature loss  (2024-12-04 14:30:55)\n",
            "  - Messium uses space-based nitrogen analysis as an enabling technology for farmers  (2024-12-04 13:57:20)\n",
            "  - UK NSC consults on offering HPV self-sampling option to under-screened people in cervical screening programme (2024-12-04 11:04:06)\n",
            "  - How we changed our approach to design histories  (2024-12-04 11:00:00)\n",
            "  - How we monitor invasive mosquitoes and stop them spreading in the UK (2024-12-03 16:33:29)\n",
            "  - What is bird flu and how are we protecting people against it in the UK? (2024-12-03 13:26:47)\n",
            "  - Meet the GSE award winners (2024-12-03 12:58:19)\n",
            "  - GOV.UK Forms through the ages (2024-12-03 12:43:38)\n",
            "  - Response to Centre for Cities report (2024-12-03 12:22:56)\n",
            "  - Digital Planning: applying digital principles and innovation to transform England’s planning system  (2024-12-03 10:24:55)\n",
            "  - UK NSC received 26 new submissions in response to 2024 call for topics (2024-12-03 09:45:15)\n",
            "  - Following in my family's forestry footsteps (2024-12-03 09:00:00)\n",
            "  - Working together for Nature Recovery in Greater Manchester   (2024-12-03 08:47:48)\n",
            "\n"
          ]
        }
      ],
      "source": [
        "bucketed_articles = bucket_articles_weekly(full_articles)\n",
        "\n",
        "for week_start, week_articles in bucketed_articles.items():\n",
        "    print(f\"Week starting {week_start}:\")\n",
        "    for article in week_articles:\n",
        "        print(f\"  - {article['title']} ({article['posted_on']})\")\n",
        "    print()"
      ]
    },
    {
      "cell_type": "markdown",
      "metadata": {
        "id": "BCDj6GG_P4NQ"
      },
      "source": [
        "## Let's write weekly files!"
      ]
    },
    {
      "cell_type": "code",
      "execution_count": 166,
      "metadata": {
        "id": "DQN353-T6kBm"
      },
      "outputs": [],
      "source": [
        "class DateTimeCodec(json.JSONEncoder):\n",
        "    def __init__(self, datetime_fields=None, *args, **kwargs):\n",
        "        super().__init__(*args, **kwargs)\n",
        "        self.datetime_fields = set(datetime_fields or [])\n",
        "\n",
        "    def default(self, obj):\n",
        "        return obj.isoformat() if isinstance(obj, datetime) else super().default(obj)\n",
        "\n",
        "    def decode(self, obj):\n",
        "        return {k: datetime.fromisoformat(v) if k in self.datetime_fields and isinstance(v, str) else v\n",
        "                for k, v in obj.items()}\n",
        "\n",
        "def write_weekly_data(date, records):\n",
        "    datetime_fields = ['posted_on']\n",
        "    target_file = data_dir / f'{date}.json'\n",
        "    if target_file.exists():\n",
        "        with open(target_file) as f:\n",
        "            current_records = json.load(f, object_hook=DateTimeCodec(datetime_fields).decode)\n",
        "        existing_record_links = {\n",
        "            record['link'] for record in current_records\n",
        "        }\n",
        "    else:\n",
        "        existing_record_links = set()\n",
        "        current_records = []\n",
        "\n",
        "    for new_record in records:\n",
        "        if new_record['link'] in existing_record_links:\n",
        "            continue\n",
        "        existing_record_links.add(new_record['link'])\n",
        "        current_records.append(new_record)\n",
        "\n",
        "    current_records = sorted(current_records, key=lambda x: x['posted_on'], reverse=True)\n",
        "    with open(target_file, 'w') as f:\n",
        "        json.dump(current_records, f, indent=4, cls=DateTimeCodec, datetime_fields=datetime_fields)"
      ]
    },
    {
      "cell_type": "code",
      "execution_count": 167,
      "metadata": {
        "id": "-oO8HHnPMxG8"
      },
      "outputs": [],
      "source": [
        "for week_start, week_articles in bucketed_articles.items():\n",
        "    write_weekly_data(week_start, week_articles)"
      ]
    },
    {
      "cell_type": "markdown",
      "metadata": {
        "id": "_TxalhNaQAyu"
      },
      "source": [
        "## Remember that cutoff date?\n",
        "\n",
        "We now can save it in a file to keep track of our progress so far. We will read this file to get the next cutoff date"
      ]
    },
    {
      "cell_type": "code",
      "execution_count": 171,
      "metadata": {
        "id": "C20X8rYlP_6E"
      },
      "outputs": [],
      "source": [
        "with open(data_dir / 'cutoff_date.txt', 'w') as f:\n",
        "    f.write(full_articles[0]['posted_on'].isoformat())"
      ]
    },
    {
      "cell_type": "code",
      "execution_count": 173,
      "metadata": {
        "id": "N8B5GmurNTVw"
      },
      "outputs": [],
      "source": [
        "with open(data_dir / 'cutoff_date.txt') as f:\n",
        "    CUTOFF_DATE = datetime.fromisoformat(f.read())"
      ]
    },
    {
      "cell_type": "code",
      "execution_count": 174,
      "metadata": {
        "colab": {
          "base_uri": "https://localhost:8080/"
        },
        "id": "2jJAeOBDQdTn",
        "outputId": "f767af85-b00c-4c15-9c55-d00fd247fc8c"
      },
      "outputs": [
        {
          "data": {
            "text/plain": [
              "datetime.datetime(2024, 12, 12, 15, 54, 26)"
            ]
          },
          "execution_count": 174,
          "metadata": {},
          "output_type": "execute_result"
        }
      ],
      "source": [
        "CUTOFF_DATE"
      ]
    },
    {
      "cell_type": "code",
      "execution_count": null,
      "metadata": {
        "id": "08oVTaGoQhFq"
      },
      "outputs": [],
      "source": []
    }
  ],
  "metadata": {
    "colab": {
      "provenance": []
    },
    "kernelspec": {
      "display_name": "Python 3",
      "name": "python3"
    },
    "language_info": {
      "name": "python"
    }
  },
  "nbformat": 4,
  "nbformat_minor": 0
}
